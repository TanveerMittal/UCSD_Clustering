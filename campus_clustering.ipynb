{
 "cells": [
  {
   "cell_type": "code",
   "execution_count": null,
   "metadata": {
    "scrolled": true
   },
   "outputs": [],
   "source": [
    "import pandas as pd\n",
    "import numpy as np\n",
    "import googlemaps\n",
    "import time\n",
    "from utils import distance, get_key\n",
    "from visualize import cluster_map"
   ]
  },
  {
   "cell_type": "code",
   "execution_count": null,
   "metadata": {
    "scrolled": true
   },
   "outputs": [],
   "source": [
    "gmaps = googlemaps.Client(key=get_key())\n",
    "gmaps"
   ]
  },
  {
   "cell_type": "code",
   "execution_count": null,
   "metadata": {
    "scrolled": true
   },
   "outputs": [],
   "source": [
    "types = [\"art_gallery\", \"atm\", \"bakery\", \"bank\", \"bar\", \"beauty_salon\", \"bicycle_store\", \"book_store\", \"bus_station\",\n",
    "         \"cafe\", \"campground\", \"clothing_store\", \"convenience_store\", \"doctor\", \"gym\",\n",
    "         \"hospital\", \"laundry\", \"library\", \"liquor_store\", \"local_government_office\", \"lodging\",\n",
    "         \"museum\", \"park\", \"parking\", \"pharmacy\", \"physiotherapist\", \"police\", \"post_office\", \"restaurant\",\n",
    "         \"school\", \"stadium\", \"storage\", \"store\", \"supermarket\", \"transit_station\"]\n",
    "\n",
    "def page_search(loc=(32.881439,-117.237729), rad=500, category=''):\n",
    "    results = []\n",
    "    search = gmaps.places_nearby(location=loc, rank_by=\"distance\", type=category)\n",
    "    results += search[\"results\"]\n",
    "    while \"next_page_token\" in search:\n",
    "        time.sleep(2)\n",
    "        search = gmaps.places_nearby(location=loc, page_token=search[\"next_page_token\"], radius=rad, type=category)\n",
    "        results += search[\"results\"]       \n",
    "    return results\n",
    "\n",
    "\n",
    "places = []\n",
    "for t in types:\n",
    "    places += page_search(category=t)\n",
    "places"
   ]
  },
  {
   "cell_type": "code",
   "execution_count": null,
   "metadata": {
    "scrolled": true
   },
   "outputs": [],
   "source": [
    "dct = {\"name\": [], \"latitude\": [], \"longitude\": []}\n",
    "for place in places:\n",
    "    dct[\"name\"].append(place[\"name\"])\n",
    "    dct[\"latitude\"].append(place[\"geometry\"][\"location\"][\"lat\"])\n",
    "    dct[\"longitude\"].append(place[\"geometry\"][\"location\"][\"lng\"])\n",
    "dct"
   ]
  },
  {
   "cell_type": "code",
   "execution_count": null,
   "metadata": {
    "scrolled": true
   },
   "outputs": [],
   "source": [
    "df = pd.DataFrame(dct)\n",
    "df.head()"
   ]
  },
  {
   "cell_type": "code",
   "execution_count": null,
   "metadata": {
    "scrolled": true
   },
   "outputs": [],
   "source": [
    "df.to_csv(\"places.csv\")"
   ]
  },
  {
   "cell_type": "code",
   "execution_count": null,
   "metadata": {
    "scrolled": true
   },
   "outputs": [],
   "source": [
    "places = {row[2]: (row[3], row[4]) for row in df.itertuples()}\n",
    "places[:5]"
   ]
  },
  {
   "cell_type": "code",
   "execution_count": null,
   "metadata": {},
   "outputs": [],
   "source": [
    "def location(place_name):\n",
    "    \"\"\"\n",
    "    Returns location of a place\n",
    "    :param place_name: name of place on map\n",
    "    :return: the location given as a tuple of longitude and latitude\n",
    "    \"\"\"\n",
    "    return tuple((places[place_name][0], places[place_name][1]))"
   ]
  },
  {
   "cell_type": "code",
   "execution_count": null,
   "metadata": {},
   "outputs": [],
   "source": [
    "def group_by_centroid(places, centroids):\n",
    "    \"\"\"\n",
    "    Assigns places to their respective closest centroids and returns a cluster of places for each centroid\n",
    "    :param places: a sequence of places\n",
    "    :param centroids: a sequence of centroids\n",
    "    :return: a nested sequence containing sequences of places all closest to the same centroid\n",
    "    \"\"\"\n",
    "    clusters = [[] for i in range(len(centroids))]\n",
    "    for place_name, location in places.items():\n",
    "        dists = [distance(centroid, location) for centroid in centroids]\n",
    "        clusters[dists.index(min(dists))].append(location)\n",
    "    return clusters"
   ]
  },
  {
   "cell_type": "code",
   "execution_count": null,
   "metadata": {},
   "outputs": [],
   "source": [
    "def find_centroid(cluster):\n",
    "    \"\"\"\n",
    "    Returns centroids of given clusters\n",
    "    :param cluster: \n",
    "    :return: \n",
    "    \"\"\"\n",
    "    return tuple((np.mean([i[0] for i in cluster]), np.mean([i[1] for i in cluster])))"
   ]
  },
  {
   "cell_type": "code",
   "execution_count": null,
   "metadata": {},
   "outputs": [],
   "source": [
    "def k_means(places, k, max_updates=100):\n",
    "    \"\"\"\n",
    "    Uses the k-means algorithm to group places into k clusters\n",
    "    :param places: a sequence of places\n",
    "    :param k: amount of clusters to group places into\n",
    "    :param max_updates: maximum number of centroid updates allowed\n",
    "    :return: k number of centroids represented as a tuple of longitude and latitude\n",
    "    \"\"\"\n",
    "    assert len(places) >= k, 'Not enough restaurants to cluster'\n",
    "    \n",
    "    old_centroids, n = [], 0\n",
    "    centroids = [list(places.values())[i] for i in np.random.random_integers(0, len(places)-1, size=k)]\n",
    "\n",
    "    while old_centroids != centroids and n < max_updates:\n",
    "        old_centroids = centroids\n",
    "        clusters = group_by_centroid(places, centroids)\n",
    "        centroids = list(map(find_centroid, clusters))\n",
    "        n += 1\n",
    "    return centroids"
   ]
  },
  {
   "cell_type": "code",
   "execution_count": null,
   "metadata": {
    "scrolled": true
   },
   "outputs": [],
   "source": [
    "centroids = k_means(places, 10)\n",
    "centroids"
   ]
  },
  {
   "cell_type": "code",
   "execution_count": null,
   "metadata": {
    "scrolled": true
   },
   "outputs": [],
   "source": [
    "cluster_map(places, centroids)"
   ]
  },
  {
   "cell_type": "code",
   "execution_count": null,
   "metadata": {},
   "outputs": [],
   "source": []
  }
 ],
 "metadata": {
  "kernelspec": {
   "display_name": "Python 3",
   "language": "python",
   "name": "python3"
  },
  "language_info": {
   "codemirror_mode": {
    "name": "ipython",
    "version": 3
   },
   "file_extension": ".py",
   "mimetype": "text/x-python",
   "name": "python",
   "nbconvert_exporter": "python",
   "pygments_lexer": "ipython3",
   "version": "3.6.5"
  }
 },
 "nbformat": 4,
 "nbformat_minor": 2
}
