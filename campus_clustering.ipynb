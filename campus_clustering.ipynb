{
 "cells": [
  {
   "cell_type": "code",
   "execution_count": 1,
   "metadata": {
    "scrolled": true
   },
   "outputs": [],
   "source": [
    "import pandas as pd\n",
    "import numpy as np\n",
    "import googlemaps\n",
    "import time\n",
    "from utils import distance, get_key\n",
    "from visualize import cluster_map"
   ]
  },
  {
   "cell_type": "code",
   "execution_count": 2,
   "metadata": {
    "scrolled": true
   },
   "outputs": [
    {
     "data": {
      "text/plain": [
       "<googlemaps.client.Client at 0x14398ecac50>"
      ]
     },
     "execution_count": 2,
     "metadata": {},
     "output_type": "execute_result"
    }
   ],
   "source": [
    "gmaps = googlemaps.Client(key=get_key())\n",
    "gmaps"
   ]
  },
  {
   "cell_type": "code",
   "execution_count": 3,
   "metadata": {
    "scrolled": true
   },
   "outputs": [
    {
     "data": {
      "text/plain": [
       "{'geometry': {'location': {'lat': 32.8781369, 'lng': -117.2403332},\n",
       "  'viewport': {'northeast': {'lat': 32.8794694802915,\n",
       "    'lng': -117.2387766197085},\n",
       "   'southwest': {'lat': 32.8767715197085, 'lng': -117.2414745802915}}},\n",
       " 'icon': 'https://maps.gstatic.com/mapfiles/place_api/icons/generic_business-71.png',\n",
       " 'id': 'eb175531d46075e176a0c51290da00a24108de63',\n",
       " 'name': 'Mandeville Annex Gallery',\n",
       " 'place_id': 'ChIJweM8xMYG3IAR6GgXGxeFbVQ',\n",
       " 'plus_code': {'compound_code': 'VQH5+7V San Diego, California, United States',\n",
       "  'global_code': '8544VQH5+7V'},\n",
       " 'reference': 'ChIJweM8xMYG3IAR6GgXGxeFbVQ',\n",
       " 'scope': 'GOOGLE',\n",
       " 'types': ['art_gallery', 'university', 'point_of_interest', 'establishment'],\n",
       " 'vicinity': 'San Diego'}"
      ]
     },
     "execution_count": 3,
     "metadata": {},
     "output_type": "execute_result"
    }
   ],
   "source": [
    "types = [\"art_gallery\", \"atm\", \"bakery\", \"bank\", \"bar\", \"beauty_salon\", \"bicycle_store\", \"book_store\", \"bus_station\",\n",
    "         \"cafe\", \"campground\", \"clothing_store\", \"convenience_store\", \"doctor\", \"gym\",\n",
    "         \"hospital\", \"laundry\", \"library\", \"liquor_store\", \"local_government_office\", \"lodging\",\n",
    "         \"museum\", \"park\", \"parking\", \"pharmacy\", \"physiotherapist\", \"police\", \"post_office\", \"restaurant\",\n",
    "         \"school\", \"stadium\", \"storage\", \"store\", \"supermarket\", \"transit_station\", \"university\"]\n",
    "\n",
    "def page_search(loc=(32.881439,-117.237729), rad=500, category=''):\n",
    "    results = []\n",
    "    search = gmaps.places_nearby(location=loc, rank_by=\"distance\", type=category)\n",
    "    results += search[\"results\"]\n",
    "    while \"next_page_token\" in search:\n",
    "        time.sleep(2)\n",
    "        search = gmaps.places_nearby(location=loc, page_token=search[\"next_page_token\"], radius=rad, type=category)\n",
    "        results += search[\"results\"]       \n",
    "    return results\n",
    "\n",
    "places = []\n",
    "for t in types:\n",
    "    places += page_search(category=t)\n",
    "    \n",
    "places[0]"
   ]
  },
  {
   "cell_type": "code",
   "execution_count": 4,
   "metadata": {
    "scrolled": true
   },
   "outputs": [
    {
     "data": {
      "text/plain": [
       "{'name': ['Mandeville Annex Gallery',\n",
       "  'University Art Gallery (UAG)',\n",
       "  'Crafts Center Grove Gallery'],\n",
       " 'latitude': [32.8781369, 32.87780120000001, 32.8756918],\n",
       " 'longitude': [-117.2403332, -117.2407337, -117.2356496]}"
      ]
     },
     "execution_count": 4,
     "metadata": {},
     "output_type": "execute_result"
    }
   ],
   "source": [
    "dct = {\"name\": [], \"latitude\": [], \"longitude\": []}\n",
    "for place in places:\n",
    "    dct[\"name\"].append(place[\"name\"])\n",
    "    dct[\"latitude\"].append(place[\"geometry\"][\"location\"][\"lat\"])\n",
    "    dct[\"longitude\"].append(place[\"geometry\"][\"location\"][\"lng\"])\n",
    "    \n",
    "{key:dct[key][:3] for key in dct.keys()}"
   ]
  },
  {
   "cell_type": "code",
   "execution_count": 5,
   "metadata": {
    "scrolled": true
   },
   "outputs": [
    {
     "data": {
      "text/html": [
       "<div>\n",
       "<style scoped>\n",
       "    .dataframe tbody tr th:only-of-type {\n",
       "        vertical-align: middle;\n",
       "    }\n",
       "\n",
       "    .dataframe tbody tr th {\n",
       "        vertical-align: top;\n",
       "    }\n",
       "\n",
       "    .dataframe thead th {\n",
       "        text-align: right;\n",
       "    }\n",
       "</style>\n",
       "<table border=\"1\" class=\"dataframe\">\n",
       "  <thead>\n",
       "    <tr style=\"text-align: right;\">\n",
       "      <th></th>\n",
       "      <th>name</th>\n",
       "      <th>latitude</th>\n",
       "      <th>longitude</th>\n",
       "    </tr>\n",
       "  </thead>\n",
       "  <tbody>\n",
       "    <tr>\n",
       "      <th>0</th>\n",
       "      <td>Mandeville Annex Gallery</td>\n",
       "      <td>32.878137</td>\n",
       "      <td>-117.240333</td>\n",
       "    </tr>\n",
       "    <tr>\n",
       "      <th>1</th>\n",
       "      <td>University Art Gallery (UAG)</td>\n",
       "      <td>32.877801</td>\n",
       "      <td>-117.240734</td>\n",
       "    </tr>\n",
       "    <tr>\n",
       "      <th>2</th>\n",
       "      <td>Crafts Center Grove Gallery</td>\n",
       "      <td>32.875692</td>\n",
       "      <td>-117.235650</td>\n",
       "    </tr>\n",
       "    <tr>\n",
       "      <th>3</th>\n",
       "      <td>San Diego Center-Jewish Comm</td>\n",
       "      <td>32.875717</td>\n",
       "      <td>-117.215350</td>\n",
       "    </tr>\n",
       "    <tr>\n",
       "      <th>4</th>\n",
       "      <td>Gotthelf Art Gallery</td>\n",
       "      <td>32.875610</td>\n",
       "      <td>-117.215004</td>\n",
       "    </tr>\n",
       "  </tbody>\n",
       "</table>\n",
       "</div>"
      ],
      "text/plain": [
       "                           name   latitude   longitude\n",
       "0      Mandeville Annex Gallery  32.878137 -117.240333\n",
       "1  University Art Gallery (UAG)  32.877801 -117.240734\n",
       "2   Crafts Center Grove Gallery  32.875692 -117.235650\n",
       "3  San Diego Center-Jewish Comm  32.875717 -117.215350\n",
       "4          Gotthelf Art Gallery  32.875610 -117.215004"
      ]
     },
     "execution_count": 5,
     "metadata": {},
     "output_type": "execute_result"
    }
   ],
   "source": [
    "df = pd.DataFrame(dct)\n",
    "df.head()"
   ]
  },
  {
   "cell_type": "code",
   "execution_count": 6,
   "metadata": {
    "scrolled": true
   },
   "outputs": [],
   "source": [
    "df.to_csv(\"places.csv\")"
   ]
  },
  {
   "cell_type": "code",
   "execution_count": 7,
   "metadata": {
    "scrolled": true
   },
   "outputs": [
    {
     "data": {
      "text/plain": [
       "{'Mandeville Annex Gallery': (32.8781369, -117.2403332),\n",
       " 'University Art Gallery (UAG)': (32.87780120000001, -117.2407337),\n",
       " 'Crafts Center Grove Gallery': (32.8756918, -117.2356496),\n",
       " 'San Diego Center-Jewish Comm': (32.8757165, -117.2153504),\n",
       " 'Gotthelf Art Gallery': (32.87561000000001, -117.215004)}"
      ]
     },
     "execution_count": 7,
     "metadata": {},
     "output_type": "execute_result"
    }
   ],
   "source": [
    "places = {row[1]: (row[2], row[3]) for row in df.itertuples()}\n",
    "\n",
    "{key:places[key] for key in list(places.keys())[:5]}"
   ]
  },
  {
   "cell_type": "code",
   "execution_count": 8,
   "metadata": {},
   "outputs": [],
   "source": [
    "def location(place_name):\n",
    "    \"\"\"\n",
    "    Returns location of a place\n",
    "    :param place_name: name of place on map\n",
    "    :return: the location given as a tuple of longitude and latitude\n",
    "    \"\"\"\n",
    "    return tuple((places[place_name][0], places[place_name][1]))"
   ]
  },
  {
   "cell_type": "code",
   "execution_count": 9,
   "metadata": {},
   "outputs": [],
   "source": [
    "def group_by_centroid(places, centroids):\n",
    "    \"\"\"\n",
    "    Assigns places to their respective closest centroids and returns a cluster of places for each centroid\n",
    "    :param places: a sequence of places\n",
    "    :param centroids: a sequence of centroids\n",
    "    :return: a nested sequence containing sequences of places all closest to the same centroid\n",
    "    \"\"\"\n",
    "    clusters = [[] for i in range(len(centroids))]\n",
    "    for place_name, location in places.items():\n",
    "        dists = [distance(centroid, location) for centroid in centroids]\n",
    "        clusters[dists.index(min(dists))].append(location)\n",
    "    return clusters"
   ]
  },
  {
   "cell_type": "code",
   "execution_count": 10,
   "metadata": {},
   "outputs": [],
   "source": [
    "def find_centroid(cluster):\n",
    "    \"\"\"\n",
    "    Returns centroids of given clusters\n",
    "    :param cluster: \n",
    "    :return: \n",
    "    \"\"\"\n",
    "    return tuple((np.mean([i[0] for i in cluster]), np.mean([i[1] for i in cluster])))"
   ]
  },
  {
   "cell_type": "code",
   "execution_count": 11,
   "metadata": {},
   "outputs": [],
   "source": [
    "def k_means(places, k, max_updates=100):\n",
    "    \"\"\"\n",
    "    Uses the k-means algorithm to group places into k clusters\n",
    "    :param places: a sequence of places\n",
    "    :param k: amount of clusters to group places into\n",
    "    :param max_updates: maximum number of centroid updates allowed\n",
    "    :return: k number of centroids represented as a tuple of longitude and latitude\n",
    "    \"\"\"\n",
    "    assert len(places) >= k, 'Not enough restaurants to cluster'\n",
    "    \n",
    "    old_centroids, n = [], 0\n",
    "    centroids = [list(places.values())[i] for i in np.random.random_integers(0, len(places)-1, size=k)]\n",
    "\n",
    "    while old_centroids != centroids and n < max_updates:\n",
    "        old_centroids = centroids\n",
    "        clusters = group_by_centroid(places, centroids)\n",
    "        centroids = list(map(find_centroid, clusters))\n",
    "        n += 1\n",
    "    return centroids"
   ]
  },
  {
   "cell_type": "code",
   "execution_count": 12,
   "metadata": {
    "scrolled": true
   },
   "outputs": [
    {
     "name": "stderr",
     "output_type": "stream",
     "text": [
      "C:\\Users\\tanve\\Anaconda3\\lib\\site-packages\\ipykernel_launcher.py:12: DeprecationWarning: This function is deprecated. Please call randint(0, 1345 + 1) instead\n",
      "  if sys.path[0] == '':\n"
     ]
    },
    {
     "data": {
      "text/plain": [
       "[(32.87260329361702, -117.23244322462006),\n",
       " (32.90002181884058, -117.19033939130433),\n",
       " (32.856135267164184, -117.25215054029852),\n",
       " (32.88284068087649, -117.23993077370518),\n",
       " (32.88350348061225, -117.22318163877554),\n",
       " (32.83127318604651, -117.21116917906978),\n",
       " (32.8700348699187, -117.21227528414632),\n",
       " (32.87937693953488, -117.1737037046512),\n",
       " (32.84494836837607, -117.27318162991453),\n",
       " (32.91224888674698, -117.22985600120482)]"
      ]
     },
     "execution_count": 12,
     "metadata": {},
     "output_type": "execute_result"
    }
   ],
   "source": [
    "centroids = k_means(places, 10)\n",
    "centroids"
   ]
  },
  {
   "cell_type": "code",
   "execution_count": null,
   "metadata": {
    "scrolled": true
   },
   "outputs": [
    {
     "name": "stdout",
     "output_type": "stream",
     "text": [
      "Serving HTTP on 0.0.0.0 port 8000 ...\n",
      "Type Ctrl-C to exit.\n"
     ]
    }
   ],
   "source": [
    "cluster_map(places, centroids)"
   ]
  },
  {
   "cell_type": "code",
   "execution_count": null,
   "metadata": {},
   "outputs": [],
   "source": []
  }
 ],
 "metadata": {
  "kernelspec": {
   "display_name": "Python 3",
   "language": "python",
   "name": "python3"
  },
  "language_info": {
   "codemirror_mode": {
    "name": "ipython",
    "version": 3
   },
   "file_extension": ".py",
   "mimetype": "text/x-python",
   "name": "python",
   "nbconvert_exporter": "python",
   "pygments_lexer": "ipython3",
   "version": "3.6.5"
  }
 },
 "nbformat": 4,
 "nbformat_minor": 2
}
