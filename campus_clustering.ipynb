{
 "cells": [
  {
   "cell_type": "markdown",
   "metadata": {},
   "source": [
    "# Clustering the UCSD Campus\n",
    "\n",
    "The University of California At San Diego has a very unique campus environment for its undergraduate students. The entire campus and undergraduate student population are currently divided into six residential colleges. When a student is admitted into UCSD, they are assigned to one of the 6 colleges, and that determines where they live, what general education classes they have to take, and what resources are available to them. These colleges are vital to UCSD's unique campus culture, which is what makes the UCSD campus, the perfect clustering problem. For this problem, I have decided to implement the unsupervised k-means algorithm, however, I may revisit this problem with other types of clustering algorithms."
   ]
  },
  {
   "cell_type": "code",
   "execution_count": 1,
   "metadata": {
    "scrolled": true
   },
   "outputs": [],
   "source": [
    "import pandas as pd\n",
    "import numpy as np\n",
    "import googlemaps\n",
    "import time\n",
    "from utils import distance, get_key\n",
    "from visualize import cluster_map"
   ]
  },
  {
   "cell_type": "markdown",
   "metadata": {},
   "source": [
    "## Data Wrangling\n",
    "\n",
    "In order to cluster the campus, we must first gather a dataset of names of places on campus and their locations. To do this I have decided to use the Google Maps Places API and the Python client library for it. I first create a list of location categories that would be relevant to the UCSD campus. Then I search for each of those categories of locations one by one in the proximity of the campus and save the results to a list."
   ]
  },
  {
   "cell_type": "code",
   "execution_count": 2,
   "metadata": {
    "scrolled": true
   },
   "outputs": [
    {
     "data": {
      "text/plain": [
       "<googlemaps.client.Client at 0x251bf449438>"
      ]
     },
     "execution_count": 2,
     "metadata": {},
     "output_type": "execute_result"
    }
   ],
   "source": [
    "gmaps = googlemaps.Client(key=get_key())\n",
    "gmaps"
   ]
  },
  {
   "cell_type": "code",
   "execution_count": 3,
   "metadata": {
    "scrolled": true
   },
   "outputs": [
    {
     "data": {
      "text/plain": [
       "{'geometry': {'location': {'lat': 32.8781369, 'lng': -117.2403332},\n",
       "  'viewport': {'northeast': {'lat': 32.8794694802915,\n",
       "    'lng': -117.2387766197085},\n",
       "   'southwest': {'lat': 32.8767715197085, 'lng': -117.2414745802915}}},\n",
       " 'icon': 'https://maps.gstatic.com/mapfiles/place_api/icons/generic_business-71.png',\n",
       " 'id': 'eb175531d46075e176a0c51290da00a24108de63',\n",
       " 'name': 'Mandeville Annex Gallery',\n",
       " 'place_id': 'ChIJweM8xMYG3IAR6GgXGxeFbVQ',\n",
       " 'plus_code': {'compound_code': 'VQH5+7V San Diego, California, United States',\n",
       "  'global_code': '8544VQH5+7V'},\n",
       " 'reference': 'ChIJweM8xMYG3IAR6GgXGxeFbVQ',\n",
       " 'scope': 'GOOGLE',\n",
       " 'types': ['art_gallery', 'university', 'point_of_interest', 'establishment'],\n",
       " 'vicinity': 'San Diego'}"
      ]
     },
     "execution_count": 3,
     "metadata": {},
     "output_type": "execute_result"
    }
   ],
   "source": [
    "types = [\"university\", \"art_gallery\", \"atm\", \"bakery\", \"bank\", \"bar\", \"beauty_salon\", \"bicycle_store\", \"book_store\",\n",
    "         \"bus_station\", \"cafe\", \"campground\", \"clothing_store\", \"convenience_store\", \"doctor\", \"establishment\",\n",
    "         \"food\", \"gym\", \"grocery_or_supermarket\", \"health\", \"hospital\", \"laundry\", \"library\", \"liquor_store\",\n",
    "         \"local_government_office\", \"lodging\", \"meal_takeaway\", \"museum\", \"park\", \"parking\", \"pharmacy\", \"physiotherapist\",\n",
    "         \"police\", \"post_office\", \"restaurant\", \"school\", \"stadium\", \"storage\", \"store\", \"supermarket\", \"transit_station\"]\n",
    "\n",
    "def page_search(loc, rad, category=''):\n",
    "    \"\"\"\n",
    "    Returns metadata for places within radius of location meeting criteria for given category\n",
    "    :param loc: tuple of longitude and latitude\n",
    "    :param rad: integer for radius(in meters) to search\n",
    "    :param category: string specifying category\n",
    "    :return: dictionary of places' metadata\n",
    "    \"\"\"\n",
    "    results = []\n",
    "    search = gmaps.places_nearby(location=loc, rank_by=\"distance\", type=category)\n",
    "    results += search[\"results\"]\n",
    "    while \"next_page_token\" in search:\n",
    "        time.sleep(2)\n",
    "        search = gmaps.places_nearby(location=loc, page_token=search[\"next_page_token\"], radius=rad, type=category)\n",
    "        results += search[\"results\"]       \n",
    "    return results\n",
    "\n",
    "\n",
    "places = []\n",
    "for t in types:\n",
    "    places += page_search((32.881439,-117.237729), 50, category=t)\n",
    "places"
   ]
  },
  {
   "cell_type": "markdown",
   "metadata": {},
   "source": [
    "After gathering the data, I format the search results to be saved into a dataframe storing the names of locations, latitude and longitude."
   ]
  },
  {
   "cell_type": "code",
   "execution_count": 4,
   "metadata": {
    "scrolled": true
   },
   "outputs": [
    {
     "data": {
      "text/plain": [
       "{'name': ['Mandeville Annex Gallery',\n",
       "  'University Art Gallery (UAG)',\n",
       "  'Crafts Center Grove Gallery'],\n",
       " 'latitude': [32.8781369, 32.87780120000001, 32.8756918],\n",
       " 'longitude': [-117.2403332, -117.2407337, -117.2356496]}"
      ]
     },
     "execution_count": 4,
     "metadata": {},
     "output_type": "execute_result"
    }
   ],
   "source": [
    "dct = {\"name\": [], \"latitude\": [], \"longitude\": []}\n",
    "for place in places:\n",
    "    dct[\"name\"].append(place[\"name\"])\n",
    "    dct[\"latitude\"].append(place[\"geometry\"][\"location\"][\"lat\"])\n",
    "    dct[\"longitude\"].append(place[\"geometry\"][\"location\"][\"lng\"])\n",
    "    \n",
    "{key:dct[key][:3] for key in dct.keys()}"
   ]
  },
  {
   "cell_type": "code",
   "execution_count": 5,
   "metadata": {
    "scrolled": true
   },
   "outputs": [
    {
     "data": {
      "text/html": [
       "<div>\n",
       "<style scoped>\n",
       "    .dataframe tbody tr th:only-of-type {\n",
       "        vertical-align: middle;\n",
       "    }\n",
       "\n",
       "    .dataframe tbody tr th {\n",
       "        vertical-align: top;\n",
       "    }\n",
       "\n",
       "    .dataframe thead th {\n",
       "        text-align: right;\n",
       "    }\n",
       "</style>\n",
       "<table border=\"1\" class=\"dataframe\">\n",
       "  <thead>\n",
       "    <tr style=\"text-align: right;\">\n",
       "      <th></th>\n",
       "      <th>name</th>\n",
       "      <th>latitude</th>\n",
       "      <th>longitude</th>\n",
       "    </tr>\n",
       "  </thead>\n",
       "  <tbody>\n",
       "    <tr>\n",
       "      <th>0</th>\n",
       "      <td>Mandeville Annex Gallery</td>\n",
       "      <td>32.878137</td>\n",
       "      <td>-117.240333</td>\n",
       "    </tr>\n",
       "    <tr>\n",
       "      <th>1</th>\n",
       "      <td>University Art Gallery (UAG)</td>\n",
       "      <td>32.877801</td>\n",
       "      <td>-117.240734</td>\n",
       "    </tr>\n",
       "    <tr>\n",
       "      <th>2</th>\n",
       "      <td>Crafts Center Grove Gallery</td>\n",
       "      <td>32.875692</td>\n",
       "      <td>-117.235650</td>\n",
       "    </tr>\n",
       "    <tr>\n",
       "      <th>3</th>\n",
       "      <td>San Diego Center-Jewish Comm</td>\n",
       "      <td>32.875717</td>\n",
       "      <td>-117.215350</td>\n",
       "    </tr>\n",
       "    <tr>\n",
       "      <th>4</th>\n",
       "      <td>Gotthelf Art Gallery</td>\n",
       "      <td>32.875610</td>\n",
       "      <td>-117.215004</td>\n",
       "    </tr>\n",
       "  </tbody>\n",
       "</table>\n",
       "</div>"
      ],
      "text/plain": [
       "                           name   latitude   longitude\n",
       "0      Mandeville Annex Gallery  32.878137 -117.240333\n",
       "1  University Art Gallery (UAG)  32.877801 -117.240734\n",
       "2   Crafts Center Grove Gallery  32.875692 -117.235650\n",
       "3  San Diego Center-Jewish Comm  32.875717 -117.215350\n",
       "4          Gotthelf Art Gallery  32.875610 -117.215004"
      ]
     },
     "execution_count": 5,
     "metadata": {},
     "output_type": "execute_result"
    }
   ],
   "source": [
    "df = pd.DataFrame(dct)\n",
    "df.head()"
   ]
  },
  {
   "cell_type": "markdown",
   "metadata": {},
   "source": [
    "Now that I have a dataframe of places I can now filter the results of the api requests using truth values on the Pandas series to narrow our dataset to only locations on campus."
   ]
  },
  {
   "cell_type": "code",
   "execution_count": 1,
   "metadata": {},
   "outputs": [
    {
     "ename": "NameError",
     "evalue": "name 'df' is not defined",
     "output_type": "error",
     "traceback": [
      "\u001b[1;31m---------------------------------------------------------------------------\u001b[0m",
      "\u001b[1;31mNameError\u001b[0m                                 Traceback (most recent call last)",
      "\u001b[1;32m<ipython-input-1-99f9d3af0b6e>\u001b[0m in \u001b[0;36m<module>\u001b[1;34m()\u001b[0m\n\u001b[1;32m----> 1\u001b[1;33m \u001b[0mtop_bound\u001b[0m \u001b[1;33m=\u001b[0m \u001b[1;33m(\u001b[0m\u001b[1;33m(\u001b[0m\u001b[0mdf\u001b[0m\u001b[1;33m[\u001b[0m\u001b[1;34m'latitude'\u001b[0m\u001b[1;33m]\u001b[0m \u001b[1;33m<=\u001b[0m \u001b[1;36m32.8912\u001b[0m\u001b[1;33m)\u001b[0m \u001b[1;33m&\u001b[0m \u001b[1;33m(\u001b[0m\u001b[0mdf\u001b[0m\u001b[1;33m[\u001b[0m\u001b[1;34m'longitude'\u001b[0m\u001b[1;33m]\u001b[0m \u001b[1;33m<=\u001b[0m \u001b[1;33m-\u001b[0m\u001b[1;36m117.237248\u001b[0m\u001b[1;33m)\u001b[0m\u001b[1;33m)\u001b[0m \u001b[1;33m|\u001b[0m             \u001b[1;33m(\u001b[0m\u001b[1;33m(\u001b[0m\u001b[0mdf\u001b[0m\u001b[1;33m[\u001b[0m\u001b[1;34m'latitude'\u001b[0m\u001b[1;33m]\u001b[0m \u001b[1;33m<=\u001b[0m \u001b[1;36m32.885216\u001b[0m\u001b[1;33m)\u001b[0m \u001b[1;33m&\u001b[0m \u001b[1;33m(\u001b[0m\u001b[0mdf\u001b[0m\u001b[1;33m[\u001b[0m\u001b[1;34m'longitude'\u001b[0m\u001b[1;33m]\u001b[0m \u001b[1;33m<=\u001b[0m \u001b[1;33m-\u001b[0m\u001b[1;36m117.222171\u001b[0m\u001b[1;33m)\u001b[0m\u001b[1;33m)\u001b[0m \u001b[1;33m|\u001b[0m             \u001b[1;33m(\u001b[0m\u001b[1;33m(\u001b[0m\u001b[0mdf\u001b[0m\u001b[1;33m[\u001b[0m\u001b[1;34m'latitude'\u001b[0m\u001b[1;33m]\u001b[0m \u001b[1;33m<=\u001b[0m \u001b[1;36m32.882486\u001b[0m\u001b[1;33m)\u001b[0m \u001b[1;33m&\u001b[0m \u001b[1;33m(\u001b[0m\u001b[0mdf\u001b[0m\u001b[1;33m[\u001b[0m\u001b[1;34m'longitude'\u001b[0m\u001b[1;33m]\u001b[0m \u001b[1;33m<=\u001b[0m \u001b[1;33m-\u001b[0m\u001b[1;36m117.21923\u001b[0m\u001b[1;33m)\u001b[0m\u001b[1;33m)\u001b[0m\u001b[1;33m\u001b[0m\u001b[0m\n\u001b[0m\u001b[0;32m      2\u001b[0m \u001b[0mbottom_bound\u001b[0m \u001b[1;33m=\u001b[0m \u001b[1;33m(\u001b[0m\u001b[0mdf\u001b[0m\u001b[1;33m[\u001b[0m\u001b[1;34m'latitude'\u001b[0m\u001b[1;33m]\u001b[0m \u001b[1;33m>=\u001b[0m \u001b[1;36m32.871570\u001b[0m\u001b[1;33m)\u001b[0m\u001b[1;33m\u001b[0m\u001b[0m\n\u001b[0;32m      3\u001b[0m \u001b[0mleft_bound\u001b[0m \u001b[1;33m=\u001b[0m \u001b[0mdf\u001b[0m\u001b[1;33m[\u001b[0m\u001b[1;34m'longitude'\u001b[0m\u001b[1;33m]\u001b[0m \u001b[1;33m>=\u001b[0m \u001b[1;33m-\u001b[0m\u001b[1;36m117.243233\u001b[0m\u001b[1;33m\u001b[0m\u001b[0m\n\u001b[0;32m      4\u001b[0m \u001b[0mright_bound\u001b[0m \u001b[1;33m=\u001b[0m \u001b[0mdf\u001b[0m\u001b[1;33m[\u001b[0m\u001b[1;34m'longitude'\u001b[0m\u001b[1;33m]\u001b[0m \u001b[1;33m<=\u001b[0m \u001b[1;33m-\u001b[0m\u001b[1;36m117.218857\u001b[0m\u001b[1;33m\u001b[0m\u001b[0m\n\u001b[0;32m      5\u001b[0m \u001b[1;33m\u001b[0m\u001b[0m\n",
      "\u001b[1;31mNameError\u001b[0m: name 'df' is not defined"
     ]
    }
   ],
   "source": [
    "top_bound = ((df['latitude'] <= 32.8912) & (df['longitude'] <= -117.237248)) | \\\n",
    "            ((df['latitude'] <= 32.885216) & (df['longitude'] <= -117.222171)) | \\\n",
    "            ((df['latitude'] <= 32.882486) & (df['longitude'] <= -117.21923))\n",
    "bottom_bound = (df['latitude'] >= 32.871570)\n",
    "left_bound = df['longitude'] >= -117.243233\n",
    "right_bound = df['longitude'] <= -117.218857\n",
    "\n",
    "df = df[left_bound][right_bound][top_bound][bottom_bound]\n",
    "df.head()"
   ]
  },
  {
   "cell_type": "code",
   "execution_count": 6,
   "metadata": {
    "scrolled": true
   },
   "outputs": [],
   "source": [
    "df.to_csv(\"places.csv\")"
   ]
  },
  {
   "cell_type": "code",
   "execution_count": 7,
   "metadata": {
    "scrolled": false
   },
   "outputs": [
    {
     "data": {
      "text/plain": [
       "{'Mandeville Annex Gallery': (32.8781369, -117.2403332),\n",
       " 'University Art Gallery (UAG)': (32.87780120000001, -117.2407337),\n",
       " 'Crafts Center Grove Gallery': (32.8756918, -117.2356496),\n",
       " 'San Diego Center-Jewish Comm': (32.8757165, -117.2153504),\n",
       " 'Gotthelf Art Gallery': (32.87561000000001, -117.215004)}"
      ]
     },
     "execution_count": 7,
     "metadata": {},
     "output_type": "execute_result"
    }
   ],
   "source": [
    "places = {row[1]: (row[2], row[3]) for row in df.itertuples()}\n",
    "\n",
    "{key:places[key] for key in list(places.keys())[:5]}"
   ]
  },
  {
   "cell_type": "markdown",
   "metadata": {},
   "source": [
    "## K-Means\n",
    "\n",
    "Now that our dataset has been put together, we can begin to implement the k-means algorithm. The goal of the algorithm is to take a sequence of points and seperate them into k clusters. The algorithm starts by randomly selecting a k number of points known as centroids. These centroids will act as the center of our final clusters. The algorithm then is comprised of 2 notable steps:\n",
    "\n",
    "1. Update the clusters. We assign each point to a cluster based on which centroid the point is closest to. This step is performed by the **group_by_centroid** function which takes a sequence of places and sequence of centroids to return k clusters.\n",
    "2. Update the centroids. We calculate the mean latitude and mean longitude of each cluster and those statistics are used as our new centroid. This step is performed by the **find_centroid** function which is mapped to compute on each cluster.\n",
    "\n",
    "These 2 steps are repeated until the centroids are unable to change or we reach a maxiumum update threshold we define ourselves. "
   ]
  },
  {
   "cell_type": "code",
   "execution_count": 8,
   "metadata": {},
   "outputs": [],
   "source": [
    "def location(place_name):\n",
    "    \"\"\"\n",
    "    Returns location of a place\n",
    "    :param place_name: name of place on map\n",
    "    :return: the location given as a tuple of longitude and latitude\n",
    "    \"\"\"\n",
    "    return tuple((places[place_name][0], places[place_name][1]))"
   ]
  },
  {
   "cell_type": "code",
   "execution_count": 9,
   "metadata": {},
   "outputs": [],
   "source": [
    "def group_by_centroid(places, centroids):\n",
    "    \"\"\"\n",
    "    Assigns places to their respective closest centroids and returns a cluster of places for each centroid\n",
    "    :param places: a sequence of places\n",
    "    :param centroids: a sequence of centroids\n",
    "    :return: a nested sequence containing sequences of places all closest to the same centroid\n",
    "    \"\"\"\n",
    "    clusters = [[] for i in range(len(centroids))]\n",
    "    for place_name, location in places.items():\n",
    "        dists = [distance(centroid, location) for centroid in centroids]\n",
    "        clusters[dists.index(min(dists))].append(location)\n",
    "    return clusters"
   ]
  },
  {
   "cell_type": "code",
   "execution_count": 10,
   "metadata": {},
   "outputs": [],
   "source": [
    "def find_centroid(cluster):\n",
    "    \"\"\"\n",
    "    Returns updated centroid of given cluster\n",
    "    :param cluster: a sequence of places\n",
    "    :return: tuple of latitude and longitude for updated centroid\n",
    "    \"\"\"\n",
    "    return tuple((np.mean([i[0] for i in cluster]), np.mean([i[1] for i in cluster])))"
   ]
  },
  {
   "cell_type": "code",
   "execution_count": 1,
   "metadata": {},
   "outputs": [],
   "source": [
    "def k_means(places, k, max_updates=100):\n",
    "    \"\"\"\n",
    "    Uses the k-means algorithm to group places into k clusters\n",
    "    :param places: a sequence of places\n",
    "    :param k: amount of clusters to group places into\n",
    "    :param max_updates: maximum number of centroid updates allowed\n",
    "    :return: k number of centroids represented as a tuple of longitude and latitude\n",
    "    \"\"\"\n",
    "    assert len(places) >= k, 'Not enough restaurants to cluster'\n",
    "    \n",
    "    old_centroids, n = [], 0\n",
    "    indexes = list(np.random.choice(range(len(places)), size=k, replace=False))\n",
    "    centroids = [list(places.values())[i] for i in indexes]\n",
    "\n",
    "    while old_centroids != centroids and n < max_updates:\n",
    "        old_centroids = centroids\n",
    "        clusters = group_by_centroid(places, centroids)\n",
    "        centroids = list(map(find_centroid, clusters))\n",
    "        n += 1\n",
    "    return centroids"
   ]
  },
  {
   "cell_type": "code",
   "execution_count": 2,
   "metadata": {
    "scrolled": true
   },
   "outputs": [
    {
     "ename": "NameError",
     "evalue": "name 'places' is not defined",
     "output_type": "error",
     "traceback": [
      "\u001b[1;31m---------------------------------------------------------------------------\u001b[0m",
      "\u001b[1;31mNameError\u001b[0m                                 Traceback (most recent call last)",
      "\u001b[1;32m<ipython-input-2-c35096271def>\u001b[0m in \u001b[0;36m<module>\u001b[1;34m()\u001b[0m\n\u001b[1;32m----> 1\u001b[1;33m \u001b[0mcentroids\u001b[0m \u001b[1;33m=\u001b[0m \u001b[0mk_means\u001b[0m\u001b[1;33m(\u001b[0m\u001b[0mplaces\u001b[0m\u001b[1;33m,\u001b[0m \u001b[1;36m10\u001b[0m\u001b[1;33m)\u001b[0m\u001b[1;33m\u001b[0m\u001b[0m\n\u001b[0m\u001b[0;32m      2\u001b[0m \u001b[0mcentroids\u001b[0m\u001b[1;33m\u001b[0m\u001b[0m\n",
      "\u001b[1;31mNameError\u001b[0m: name 'places' is not defined"
     ]
    }
   ],
   "source": [
    "centroids = k_means(places, 9)\n",
    "centroids"
   ]
  },
  {
   "cell_type": "markdown",
   "metadata": {},
   "source": [
    "# Visualization\n",
    "To visualize locations on campus "
   ]
  },
  {
   "cell_type": "code",
   "execution_count": null,
   "metadata": {
    "scrolled": true
   },
   "outputs": [
    {
     "name": "stdout",
     "output_type": "stream",
     "text": [
      "Serving HTTP on 0.0.0.0 port 8000 ...\n",
      "Type Ctrl-C to exit.\n"
     ]
    }
   ],
   "source": [
    "cluster_map(places, centroids)"
   ]
  },
  {
   "cell_type": "code",
   "execution_count": null,
   "metadata": {},
   "outputs": [],
   "source": []
  }
 ],
 "metadata": {
  "kernelspec": {
   "display_name": "Python 3",
   "language": "python",
   "name": "python3"
  },
  "language_info": {
   "codemirror_mode": {
    "name": "ipython",
    "version": 3
   },
   "file_extension": ".py",
   "mimetype": "text/x-python",
   "name": "python",
   "nbconvert_exporter": "python",
   "pygments_lexer": "ipython3",
   "version": "3.6.5"
  }
 },
 "nbformat": 4,
 "nbformat_minor": 2
}
