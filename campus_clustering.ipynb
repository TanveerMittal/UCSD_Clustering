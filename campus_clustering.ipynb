{
 "cells": [
  {
   "cell_type": "markdown",
   "metadata": {},
   "source": [
    "# Clustering the UCSD Campus\n",
    "\n",
    "The University of California At San Diego has a very unique campus environment for its undergraduate students. The entire campus and undergraduate student population is currently dividided into six residential colleges. When a student is admitted into UCSD, they are assigned to one of the 6 colleges, and that determines where they live, what general education classes they have to take, and what resources are available to them. These colleges are vital to UCSD's unique campus culture, which is what makes the UCSD campus, the perfect clustering problem. For this problem, I have decided to implement the unsupervised k-means algorithm, however later I may revisit this problem with other types of clustering algorithms."
   ]
  },
  {
   "cell_type": "code",
   "execution_count": 1,
   "metadata": {
    "scrolled": true
   },
   "outputs": [],
   "source": [
    "import pandas as pd\n",
    "import numpy as np\n",
    "import googlemaps\n",
    "import time\n",
    "from utils import distance, get_key\n",
    "from visualize import cluster_map"
   ]
  },
  {
   "cell_type": "markdown",
   "metadata": {},
   "source": [
    "## Data Wrangling\n",
    "\n",
    "In order to cluster the campus, we must first gather a dataset of names of places on campus and their locations. To do this I have decided to use the Googlemaps Places API and the Python client library for it. I first create a list of location categories that would be relevant to the UCSD campus. Then I search for each of those categories of locations one by one in the proximity of the campus and save the results to a list."
   ]
  },
  {
   "cell_type": "code",
   "execution_count": 2,
   "metadata": {
    "scrolled": true
   },
   "outputs": [
    {
     "data": {
      "text/plain": [
       "<googlemaps.client.Client at 0x2108b2becf8>"
      ]
     },
     "execution_count": 2,
     "metadata": {},
     "output_type": "execute_result"
    }
   ],
   "source": [
    "gmaps = googlemaps.Client(key=get_key())\n",
    "gmaps"
   ]
  },
  {
   "cell_type": "code",
   "execution_count": 3,
   "metadata": {
    "scrolled": true
   },
   "outputs": [
    {
     "data": {
      "text/plain": [
       "{'geometry': {'location': {'lat': 32.8781369, 'lng': -117.2403332},\n",
       "  'viewport': {'northeast': {'lat': 32.8794694802915,\n",
       "    'lng': -117.2387766197085},\n",
       "   'southwest': {'lat': 32.8767715197085, 'lng': -117.2414745802915}}},\n",
       " 'icon': 'https://maps.gstatic.com/mapfiles/place_api/icons/generic_business-71.png',\n",
       " 'id': 'eb175531d46075e176a0c51290da00a24108de63',\n",
       " 'name': 'Mandeville Annex Gallery',\n",
       " 'place_id': 'ChIJweM8xMYG3IAR6GgXGxeFbVQ',\n",
       " 'plus_code': {'compound_code': 'VQH5+7V San Diego, California, United States',\n",
       "  'global_code': '8544VQH5+7V'},\n",
       " 'reference': 'ChIJweM8xMYG3IAR6GgXGxeFbVQ',\n",
       " 'scope': 'GOOGLE',\n",
       " 'types': ['art_gallery', 'university', 'point_of_interest', 'establishment'],\n",
       " 'vicinity': 'San Diego'}"
      ]
     },
     "execution_count": 3,
     "metadata": {},
     "output_type": "execute_result"
    }
   ],
   "source": [
    "types = [\"art_gallery\", \"atm\", \"bakery\", \"bank\", \"bar\", \"beauty_salon\", \"bicycle_store\", \"book_store\", \"bus_station\",\n",
    "         \"cafe\", \"campground\", \"clothing_store\", \"convenience_store\", \"doctor\", \"gym\",\n",
    "         \"hospital\", \"laundry\", \"library\", \"liquor_store\", \"local_government_office\", \"lodging\",\n",
    "         \"museum\", \"park\", \"parking\", \"pharmacy\", \"physiotherapist\", \"police\", \"post_office\", \"restaurant\",\n",
    "         \"school\", \"stadium\", \"storage\", \"store\", \"supermarket\", \"transit_station\", \"university\"]\n",
    "\n",
    "def page_search(loc=(32.881439,-117.237729), rad=500, category=''):\n",
    "    results = []\n",
    "    search = gmaps.places_nearby(location=loc, rank_by=\"distance\", type=category)\n",
    "    results += search[\"results\"]\n",
    "    while \"next_page_token\" in search:\n",
    "        time.sleep(2)\n",
    "        search = gmaps.places_nearby(location=loc, page_token=search[\"next_page_token\"], radius=rad, type=category)\n",
    "        results += search[\"results\"]       \n",
    "    return results\n",
    "\n",
    "places = []\n",
    "for t in types:\n",
    "    places += page_search(category=t)\n",
    "    \n",
    "places[0]"
   ]
  },
  {
   "cell_type": "markdown",
   "metadata": {},
   "source": [
    "After gathering the data, I format the search results to be saved into a dataframe storing the names of locations, latitude and longitude."
   ]
  },
  {
   "cell_type": "code",
   "execution_count": 4,
   "metadata": {
    "scrolled": true
   },
   "outputs": [
    {
     "data": {
      "text/plain": [
       "{'name': ['Mandeville Annex Gallery',\n",
       "  'University Art Gallery (UAG)',\n",
       "  'Crafts Center Grove Gallery'],\n",
       " 'latitude': [32.8781369, 32.87780120000001, 32.8756918],\n",
       " 'longitude': [-117.2403332, -117.2407337, -117.2356496]}"
      ]
     },
     "execution_count": 4,
     "metadata": {},
     "output_type": "execute_result"
    }
   ],
   "source": [
    "dct = {\"name\": [], \"latitude\": [], \"longitude\": []}\n",
    "for place in places:\n",
    "    dct[\"name\"].append(place[\"name\"])\n",
    "    dct[\"latitude\"].append(place[\"geometry\"][\"location\"][\"lat\"])\n",
    "    dct[\"longitude\"].append(place[\"geometry\"][\"location\"][\"lng\"])\n",
    "    \n",
    "{key:dct[key][:3] for key in dct.keys()}"
   ]
  },
  {
   "cell_type": "code",
   "execution_count": 5,
   "metadata": {
    "scrolled": true
   },
   "outputs": [
    {
     "data": {
      "text/html": [
       "<div>\n",
       "<style scoped>\n",
       "    .dataframe tbody tr th:only-of-type {\n",
       "        vertical-align: middle;\n",
       "    }\n",
       "\n",
       "    .dataframe tbody tr th {\n",
       "        vertical-align: top;\n",
       "    }\n",
       "\n",
       "    .dataframe thead th {\n",
       "        text-align: right;\n",
       "    }\n",
       "</style>\n",
       "<table border=\"1\" class=\"dataframe\">\n",
       "  <thead>\n",
       "    <tr style=\"text-align: right;\">\n",
       "      <th></th>\n",
       "      <th>name</th>\n",
       "      <th>latitude</th>\n",
       "      <th>longitude</th>\n",
       "    </tr>\n",
       "  </thead>\n",
       "  <tbody>\n",
       "    <tr>\n",
       "      <th>0</th>\n",
       "      <td>Mandeville Annex Gallery</td>\n",
       "      <td>32.878137</td>\n",
       "      <td>-117.240333</td>\n",
       "    </tr>\n",
       "    <tr>\n",
       "      <th>1</th>\n",
       "      <td>University Art Gallery (UAG)</td>\n",
       "      <td>32.877801</td>\n",
       "      <td>-117.240734</td>\n",
       "    </tr>\n",
       "    <tr>\n",
       "      <th>2</th>\n",
       "      <td>Crafts Center Grove Gallery</td>\n",
       "      <td>32.875692</td>\n",
       "      <td>-117.235650</td>\n",
       "    </tr>\n",
       "    <tr>\n",
       "      <th>3</th>\n",
       "      <td>San Diego Center-Jewish Comm</td>\n",
       "      <td>32.875717</td>\n",
       "      <td>-117.215350</td>\n",
       "    </tr>\n",
       "    <tr>\n",
       "      <th>4</th>\n",
       "      <td>Gotthelf Art Gallery</td>\n",
       "      <td>32.875610</td>\n",
       "      <td>-117.215004</td>\n",
       "    </tr>\n",
       "  </tbody>\n",
       "</table>\n",
       "</div>"
      ],
      "text/plain": [
       "                           name   latitude   longitude\n",
       "0      Mandeville Annex Gallery  32.878137 -117.240333\n",
       "1  University Art Gallery (UAG)  32.877801 -117.240734\n",
       "2   Crafts Center Grove Gallery  32.875692 -117.235650\n",
       "3  San Diego Center-Jewish Comm  32.875717 -117.215350\n",
       "4          Gotthelf Art Gallery  32.875610 -117.215004"
      ]
     },
     "execution_count": 5,
     "metadata": {},
     "output_type": "execute_result"
    }
   ],
   "source": [
    "df = pd.DataFrame(dct)\n",
    "df.head()"
   ]
  },
  {
   "cell_type": "code",
   "execution_count": 6,
   "metadata": {
    "scrolled": true
   },
   "outputs": [],
   "source": [
    "df.to_csv(\"places.csv\")"
   ]
  },
  {
   "cell_type": "code",
   "execution_count": 7,
   "metadata": {
    "scrolled": false
   },
   "outputs": [
    {
     "data": {
      "text/plain": [
       "{'Mandeville Annex Gallery': (32.8781369, -117.2403332),\n",
       " 'University Art Gallery (UAG)': (32.87780120000001, -117.2407337),\n",
       " 'Crafts Center Grove Gallery': (32.8756918, -117.2356496),\n",
       " 'San Diego Center-Jewish Comm': (32.8757165, -117.2153504),\n",
       " 'Gotthelf Art Gallery': (32.87561000000001, -117.215004)}"
      ]
     },
     "execution_count": 7,
     "metadata": {},
     "output_type": "execute_result"
    }
   ],
   "source": [
    "places = {row[1]: (row[2], row[3]) for row in df.itertuples()}\n",
    "\n",
    "{key:places[key] for key in list(places.keys())[:5]}"
   ]
  },
  {
   "cell_type": "markdown",
   "metadata": {},
   "source": [
    "## K-Means\n",
    "\n",
    "Now that our dataset has been put together, we can begin to implement the k-means algorithm. The goal of the algorithm is to take a sequence of points and seperate them into k clusters. The algorithm starts by randomly selecting a k number of points known as centroids. These centroids will act as the center of our final clusters. The algorithm then is comprised of 2 notable steps:\n",
    "\n",
    "1. Update the clusters. We assign each point to a cluster based on which centroid the point is closest to. This step is performed by the **group_by_centroid** function which takes a sequence of places and sequence of centroids to return k clusters.\n",
    "2. Update the centroids. We calculate the mean latitude and mean longitude of each cluster and those statistics are used as our new centroid. This step is performed by the **find_centroid** function which is mapped to compute on each cluster.\n",
    "\n",
    "These 2 steps are repeated until the centroids are unable to change or we reach a maxiumum update threshold we define ourselves. "
   ]
  },
  {
   "cell_type": "code",
   "execution_count": 8,
   "metadata": {},
   "outputs": [],
   "source": [
    "def location(place_name):\n",
    "    \"\"\"\n",
    "    Returns location of a place\n",
    "    :param place_name: name of place on map\n",
    "    :return: the location given as a tuple of longitude and latitude\n",
    "    \"\"\"\n",
    "    return tuple((places[place_name][0], places[place_name][1]))"
   ]
  },
  {
   "cell_type": "code",
   "execution_count": 9,
   "metadata": {},
   "outputs": [],
   "source": [
    "def group_by_centroid(places, centroids):\n",
    "    \"\"\"\n",
    "    Assigns places to their respective closest centroids and returns a cluster of places for each centroid\n",
    "    :param places: a sequence of places\n",
    "    :param centroids: a sequence of centroids\n",
    "    :return: a nested sequence containing sequences of places all closest to the same centroid\n",
    "    \"\"\"\n",
    "    clusters = [[] for i in range(len(centroids))]\n",
    "    for place_name, location in places.items():\n",
    "        dists = [distance(centroid, location) for centroid in centroids]\n",
    "        clusters[dists.index(min(dists))].append(location)\n",
    "    return clusters"
   ]
  },
  {
   "cell_type": "code",
   "execution_count": 10,
   "metadata": {},
   "outputs": [],
   "source": [
    "def find_centroid(cluster):\n",
    "    \"\"\"\n",
    "    Returns centroids of given clusters\n",
    "    :param cluster: \n",
    "    :return: \n",
    "    \"\"\"\n",
    "    return tuple((np.mean([i[0] for i in cluster]), np.mean([i[1] for i in cluster])))"
   ]
  },
  {
   "cell_type": "code",
   "execution_count": 11,
   "metadata": {},
   "outputs": [],
   "source": [
    "def k_means(places, k, max_updates=100):\n",
    "    \"\"\"\n",
    "    Uses the k-means algorithm to group places into k clusters\n",
    "    :param places: a sequence of places\n",
    "    :param k: amount of clusters to group places into\n",
    "    :param max_updates: maximum number of centroid updates allowed\n",
    "    :return: k number of centroids represented as a tuple of longitude and latitude\n",
    "    \"\"\"\n",
    "    assert len(places) >= k, 'Not enough restaurants to cluster'\n",
    "    \n",
    "    old_centroids, n = [], 0\n",
    "    centroids = [list(places.values())[i] for i in np.random.random_integers(0, len(places)-1, size=k)]\n",
    "\n",
    "    while old_centroids != centroids and n < max_updates:\n",
    "        old_centroids = centroids\n",
    "        clusters = group_by_centroid(places, centroids)\n",
    "        centroids = list(map(find_centroid, clusters))\n",
    "        n += 1\n",
    "    return centroids"
   ]
  },
  {
   "cell_type": "code",
   "execution_count": 12,
   "metadata": {
    "scrolled": true
   },
   "outputs": [
    {
     "name": "stderr",
     "output_type": "stream",
     "text": [
      "C:\\Users\\tanve\\Anaconda3\\lib\\site-packages\\ipykernel_launcher.py:12: DeprecationWarning: This function is deprecated. Please call randint(0, 1346 + 1) instead\n",
      "  if sys.path[0] == '':\n"
     ]
    },
    {
     "data": {
      "text/plain": [
       "[(32.870194769047615, -117.21167637182539),\n",
       " (32.892901959615386, -117.18261480480768),\n",
       " (32.867996175694444, -117.23006851666668),\n",
       " (32.856061947692304, -117.25226546153847),\n",
       " (32.87784088547487, -117.22887165921787),\n",
       " (32.87892017630662, -117.23793663623694),\n",
       " (32.84500946974791, -117.27315934285713),\n",
       " (32.894967116176474, -117.24298503970589),\n",
       " (32.83083893095238, -117.21086868809525),\n",
       " (32.910433766666664, -117.22443834022988)]"
      ]
     },
     "execution_count": 12,
     "metadata": {},
     "output_type": "execute_result"
    }
   ],
   "source": [
    "centroids = k_means(places, 10)\n",
    "centroids"
   ]
  },
  {
   "cell_type": "markdown",
   "metadata": {},
   "source": []
  },
  {
   "cell_type": "code",
   "execution_count": null,
   "metadata": {
    "scrolled": true
   },
   "outputs": [
    {
     "name": "stdout",
     "output_type": "stream",
     "text": [
      "Serving HTTP on 0.0.0.0 port 8000 ...\n",
      "Type Ctrl-C to exit.\n"
     ]
    }
   ],
   "source": [
    "cluster_map(places, centroids)"
   ]
  },
  {
   "cell_type": "code",
   "execution_count": null,
   "metadata": {},
   "outputs": [],
   "source": []
  }
 ],
 "metadata": {
  "kernelspec": {
   "display_name": "Python 3",
   "language": "python",
   "name": "python3"
  },
  "language_info": {
   "codemirror_mode": {
    "name": "ipython",
    "version": 3
   },
   "file_extension": ".py",
   "mimetype": "text/x-python",
   "name": "python",
   "nbconvert_exporter": "python",
   "pygments_lexer": "ipython3",
   "version": "3.6.5"
  }
 },
 "nbformat": 4,
 "nbformat_minor": 2
}
