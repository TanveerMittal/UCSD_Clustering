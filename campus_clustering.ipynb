{
 "cells": [
  {
   "cell_type": "markdown",
   "metadata": {},
   "source": [
    "# Clustering the UCSD Campus\n",
    "\n",
    "The University of California At San Diego has a very unique campus environment for its undergraduate students. The entire campus and undergraduate student population are currently divided into six residential colleges. When a student is admitted into UCSD, they are assigned to one of the 6 colleges, and that determines where they live, what general education classes they have to take, and what resources are available to them. These colleges are vital to UCSD's unique campus culture, which is what makes the UCSD campus, the perfect clustering problem. For this problem, I have decided to implement the unsupervised k-means algorithm to separate the campus into 9 clusters intended to be: Sixth College, Marshall College, Warren College, Muir College, Elanor Roosevelt College, Revelle College, the center of campus, the school of medicine, and the medical campus."
   ]
  },
  {
   "cell_type": "code",
   "execution_count": 1,
   "metadata": {
    "scrolled": true
   },
   "outputs": [],
   "source": [
    "import pandas as pd\n",
    "import numpy as np\n",
    "import googlemaps\n",
    "import time\n",
    "from utils import distance, get_key\n",
    "from visualize import cluster_map"
   ]
  },
  {
   "cell_type": "markdown",
   "metadata": {},
   "source": [
    "## Data Wrangling\n",
    "\n",
    "In order to cluster the campus, I need to first gather a dataset of names of places on campus and their locations. To do this, I have decided to use the Google Maps Places API and the Python client library for it. I first create a list of location categories that would be relevant to the UCSD campus. Then I search for each of those categories of locations one by one in the proximity of the campus and save the results to a list."
   ]
  },
  {
   "cell_type": "code",
   "execution_count": 2,
   "metadata": {
    "scrolled": true
   },
   "outputs": [
    {
     "data": {
      "text/plain": [
       "<googlemaps.client.Client at 0x22c0bf815c0>"
      ]
     },
     "execution_count": 2,
     "metadata": {},
     "output_type": "execute_result"
    }
   ],
   "source": [
    "gmaps = googlemaps.Client(key=get_key())\n",
    "gmaps"
   ]
  },
  {
   "cell_type": "code",
   "execution_count": 3,
   "metadata": {
    "scrolled": true
   },
   "outputs": [
    {
     "data": {
      "text/plain": [
       "{'geometry': {'location': {'lat': 32.8811414, 'lng': -117.2376126},\n",
       "  'viewport': {'northeast': {'lat': 32.88205658029149,\n",
       "    'lng': -117.2362445197085},\n",
       "   'southwest': {'lat': 32.87935861970849, 'lng': -117.2389424802915}}},\n",
       " 'icon': 'https://maps.gstatic.com/mapfiles/place_api/icons/school-71.png',\n",
       " 'id': 'b86d32f8f935290d78fba69272bca631527f9ca7',\n",
       " 'name': 'Teaching + Learning Commons',\n",
       " 'opening_hours': {'open_now': False},\n",
       " 'place_id': 'ChIJGZma3MMG3IAR2kje8Xt0Fpo',\n",
       " 'plus_code': {'compound_code': 'VQJ6+FX San Diego, California, United States',\n",
       "  'global_code': '8544VQJ6+FX'},\n",
       " 'reference': 'ChIJGZma3MMG3IAR2kje8Xt0Fpo',\n",
       " 'scope': 'GOOGLE',\n",
       " 'types': ['university', 'point_of_interest', 'establishment'],\n",
       " 'vicinity': 'Geisel Library, Library Walk, San Diego'}"
      ]
     },
     "execution_count": 3,
     "metadata": {},
     "output_type": "execute_result"
    }
   ],
   "source": [
    "types = [\"university\", \"art_gallery\", \"atm\", \"bakery\", \"bank\", \"bar\", \"beauty_salon\", \"bicycle_store\", \"book_store\",\n",
    "         \"bus_station\", \"cafe\", \"campground\", \"clothing_store\", \"convenience_store\", \"doctor\", \"establishment\",\n",
    "         \"food\", \"gym\", \"grocery_or_supermarket\", \"health\", \"hospital\", \"laundry\", \"library\", \"liquor_store\",\n",
    "         \"local_government_office\", \"lodging\", \"meal_takeaway\", \"museum\", \"park\", \"parking\", \"pharmacy\", \"physiotherapist\",\n",
    "         \"police\", \"post_office\", \"restaurant\", \"school\", \"stadium\", \"storage\", \"store\", \"supermarket\", \"transit_station\"]\n",
    "\n",
    "def page_search(loc, rad, category=''):\n",
    "    \"\"\"\n",
    "    Returns metadata for places within radius of location meeting criteria for given category\n",
    "    :param loc: tuple of longitude and latitude\n",
    "    :param rad: integer for radius(in meters) to search\n",
    "    :param category: string specifying category\n",
    "    :return: dictionary of places' metadata\n",
    "    \"\"\"\n",
    "    results = []\n",
    "    search = gmaps.places_nearby(location=loc, rank_by=\"distance\", type=category)\n",
    "    results += search[\"results\"]\n",
    "    while \"next_page_token\" in search:\n",
    "        time.sleep(2)\n",
    "        search = gmaps.places_nearby(location=loc, page_token=search[\"next_page_token\"], radius=rad, type=category)\n",
    "        results += search[\"results\"]       \n",
    "    return results\n",
    "\n",
    "\n",
    "places = []\n",
    "for t in types:\n",
    "    places += page_search((32.881439,-117.237729), 50, category=t)\n",
    "places[0]"
   ]
  },
  {
   "cell_type": "markdown",
   "metadata": {},
   "source": [
    "After gathering the data, I format the search results to be saved into a dataframe storing the names of locations, latitude and longitude."
   ]
  },
  {
   "cell_type": "code",
   "execution_count": 4,
   "metadata": {
    "scrolled": true
   },
   "outputs": [
    {
     "data": {
      "text/plain": [
       "{'name': ['Teaching + Learning Commons',\n",
       "  'Eucalyptus Point',\n",
       "  'Thurgood Marshall College Lower Apartments'],\n",
       " 'latitude': [32.8811414, 32.8814919, 32.88261579999999],\n",
       " 'longitude': [-117.2376126, -117.2394106, -117.239135]}"
      ]
     },
     "execution_count": 4,
     "metadata": {},
     "output_type": "execute_result"
    }
   ],
   "source": [
    "dct = {\"name\": [], \"latitude\": [], \"longitude\": []}\n",
    "for place in places:\n",
    "    dct[\"name\"].append(place[\"name\"])\n",
    "    dct[\"latitude\"].append(place[\"geometry\"][\"location\"][\"lat\"])\n",
    "    dct[\"longitude\"].append(place[\"geometry\"][\"location\"][\"lng\"])\n",
    "    \n",
    "{key:dct[key][:3] for key in dct.keys()}"
   ]
  },
  {
   "cell_type": "code",
   "execution_count": 5,
   "metadata": {
    "scrolled": true
   },
   "outputs": [
    {
     "data": {
      "text/html": [
       "<div>\n",
       "<style scoped>\n",
       "    .dataframe tbody tr th:only-of-type {\n",
       "        vertical-align: middle;\n",
       "    }\n",
       "\n",
       "    .dataframe tbody tr th {\n",
       "        vertical-align: top;\n",
       "    }\n",
       "\n",
       "    .dataframe thead th {\n",
       "        text-align: right;\n",
       "    }\n",
       "</style>\n",
       "<table border=\"1\" class=\"dataframe\">\n",
       "  <thead>\n",
       "    <tr style=\"text-align: right;\">\n",
       "      <th></th>\n",
       "      <th>name</th>\n",
       "      <th>latitude</th>\n",
       "      <th>longitude</th>\n",
       "    </tr>\n",
       "  </thead>\n",
       "  <tbody>\n",
       "    <tr>\n",
       "      <th>0</th>\n",
       "      <td>Teaching + Learning Commons</td>\n",
       "      <td>32.881141</td>\n",
       "      <td>-117.237613</td>\n",
       "    </tr>\n",
       "    <tr>\n",
       "      <th>1</th>\n",
       "      <td>Eucalyptus Point</td>\n",
       "      <td>32.881492</td>\n",
       "      <td>-117.239411</td>\n",
       "    </tr>\n",
       "    <tr>\n",
       "      <th>2</th>\n",
       "      <td>Thurgood Marshall College Lower Apartments</td>\n",
       "      <td>32.882616</td>\n",
       "      <td>-117.239135</td>\n",
       "    </tr>\n",
       "    <tr>\n",
       "      <th>3</th>\n",
       "      <td>Center for Research in Language</td>\n",
       "      <td>32.880529</td>\n",
       "      <td>-117.239434</td>\n",
       "    </tr>\n",
       "    <tr>\n",
       "      <th>4</th>\n",
       "      <td>UC San Diego Jacobs School of Engineering</td>\n",
       "      <td>32.881468</td>\n",
       "      <td>-117.235483</td>\n",
       "    </tr>\n",
       "  </tbody>\n",
       "</table>\n",
       "</div>"
      ],
      "text/plain": [
       "                                         name   latitude   longitude\n",
       "0                 Teaching + Learning Commons  32.881141 -117.237613\n",
       "1                            Eucalyptus Point  32.881492 -117.239411\n",
       "2  Thurgood Marshall College Lower Apartments  32.882616 -117.239135\n",
       "3             Center for Research in Language  32.880529 -117.239434\n",
       "4   UC San Diego Jacobs School of Engineering  32.881468 -117.235483"
      ]
     },
     "execution_count": 5,
     "metadata": {},
     "output_type": "execute_result"
    }
   ],
   "source": [
    "df = pd.DataFrame(dct)\n",
    "df.head()"
   ]
  },
  {
   "cell_type": "markdown",
   "metadata": {},
   "source": [
    "Now that I have a dataframe of places I can now filter the results of the api requests using truth values on the Pandas series to narrow our dataset to only locations on campus."
   ]
  },
  {
   "cell_type": "code",
   "execution_count": 6,
   "metadata": {},
   "outputs": [
    {
     "name": "stderr",
     "output_type": "stream",
     "text": [
      "C:\\Users\\tanve\\Anaconda3\\lib\\site-packages\\ipykernel_launcher.py:6: UserWarning: Boolean Series key will be reindexed to match DataFrame index.\n",
      "  \n"
     ]
    },
    {
     "data": {
      "text/html": [
       "<div>\n",
       "<style scoped>\n",
       "    .dataframe tbody tr th:only-of-type {\n",
       "        vertical-align: middle;\n",
       "    }\n",
       "\n",
       "    .dataframe tbody tr th {\n",
       "        vertical-align: top;\n",
       "    }\n",
       "\n",
       "    .dataframe thead th {\n",
       "        text-align: right;\n",
       "    }\n",
       "</style>\n",
       "<table border=\"1\" class=\"dataframe\">\n",
       "  <thead>\n",
       "    <tr style=\"text-align: right;\">\n",
       "      <th></th>\n",
       "      <th>name</th>\n",
       "      <th>latitude</th>\n",
       "      <th>longitude</th>\n",
       "    </tr>\n",
       "  </thead>\n",
       "  <tbody>\n",
       "    <tr>\n",
       "      <th>0</th>\n",
       "      <td>Teaching + Learning Commons</td>\n",
       "      <td>32.881141</td>\n",
       "      <td>-117.237613</td>\n",
       "    </tr>\n",
       "    <tr>\n",
       "      <th>1</th>\n",
       "      <td>Eucalyptus Point</td>\n",
       "      <td>32.881492</td>\n",
       "      <td>-117.239411</td>\n",
       "    </tr>\n",
       "    <tr>\n",
       "      <th>2</th>\n",
       "      <td>Thurgood Marshall College Lower Apartments</td>\n",
       "      <td>32.882616</td>\n",
       "      <td>-117.239135</td>\n",
       "    </tr>\n",
       "    <tr>\n",
       "      <th>3</th>\n",
       "      <td>Center for Research in Language</td>\n",
       "      <td>32.880529</td>\n",
       "      <td>-117.239434</td>\n",
       "    </tr>\n",
       "    <tr>\n",
       "      <th>4</th>\n",
       "      <td>UC San Diego Jacobs School of Engineering</td>\n",
       "      <td>32.881468</td>\n",
       "      <td>-117.235483</td>\n",
       "    </tr>\n",
       "  </tbody>\n",
       "</table>\n",
       "</div>"
      ],
      "text/plain": [
       "                                         name   latitude   longitude\n",
       "0                 Teaching + Learning Commons  32.881141 -117.237613\n",
       "1                            Eucalyptus Point  32.881492 -117.239411\n",
       "2  Thurgood Marshall College Lower Apartments  32.882616 -117.239135\n",
       "3             Center for Research in Language  32.880529 -117.239434\n",
       "4   UC San Diego Jacobs School of Engineering  32.881468 -117.235483"
      ]
     },
     "execution_count": 6,
     "metadata": {},
     "output_type": "execute_result"
    }
   ],
   "source": [
    "top_bound = ((df['latitude'] <= 32.8912) & (df['longitude'] <= -117.237248)) | \\\n",
    "            ((df['latitude'] <= 32.885216) & (df['longitude'] <= -117.222171)) | \\\n",
    "            ((df['latitude'] <= 32.882486) & (df['longitude'] <= -117.21923))\n",
    "bottom_bound = (df['latitude'] >= 32.871570)\n",
    "left_bound = df['longitude'] >= -117.243233\n",
    "right_bound = df['longitude'] <= -117.218857\n",
    "\n",
    "df = df[left_bound][right_bound][top_bound][bottom_bound]\n",
    "df.head()"
   ]
  },
  {
   "cell_type": "code",
   "execution_count": 7,
   "metadata": {
    "scrolled": true
   },
   "outputs": [],
   "source": [
    "df.to_csv(\"places.csv\")"
   ]
  },
  {
   "cell_type": "code",
   "execution_count": 8,
   "metadata": {
    "scrolled": false
   },
   "outputs": [
    {
     "data": {
      "text/plain": [
       "{'Teaching + Learning Commons': (32.8811414, -117.2376126),\n",
       " 'Eucalyptus Point': (32.8815091, -117.2397034),\n",
       " 'Thurgood Marshall College Lower Apartments': (32.88261579999999,\n",
       "  -117.239135),\n",
       " 'Center for Research in Language': (32.8805291, -117.2394335),\n",
       " 'UC San Diego Jacobs School of Engineering': (32.8814678, -117.2354827)}"
      ]
     },
     "execution_count": 8,
     "metadata": {},
     "output_type": "execute_result"
    }
   ],
   "source": [
    "places = {row[1]: (row[2], row[3]) for row in df.itertuples()}\n",
    "\n",
    "{key:places[key] for key in list(places.keys())[:5]}"
   ]
  },
  {
   "cell_type": "markdown",
   "metadata": {},
   "source": [
    "## K-Means\n",
    "\n",
    "Now that our dataset has been put together, we can begin to implement the k-means algorithm. The goal of the algorithm is to take a sequence of points and seperate them into k clusters. The algorithm starts by randomly selecting a k number of points known as centroids. These centroids will act as the center of our final clusters. The algorithm then is comprised of 2 notable steps:\n",
    "\n",
    "1. Update the clusters. We assign each point to a cluster based on which centroid the point is closest to. This step is performed by the **group_by_centroid** function which takes a sequence of places and sequence of centroids to return k clusters.\n",
    " "
   ]
  },
  {
   "cell_type": "code",
   "execution_count": 9,
   "metadata": {},
   "outputs": [],
   "source": [
    "def group_by_centroid(places, centroids):\n",
    "    \"\"\"\n",
    "    Assigns places to their respective closest centroids and returns a cluster of places for each centroid\n",
    "    :param places: a sequence of places\n",
    "    :param centroids: a sequence of centroids\n",
    "    :return: a nested sequence containing sequences of places all closest to the same centroid\n",
    "    \"\"\"\n",
    "    clusters = [[] for i in range(len(centroids))]\n",
    "    for place_name, location in places.items():\n",
    "        dists = [distance(centroid, location) for centroid in centroids]\n",
    "        clusters[dists.index(min(dists))].append(location)\n",
    "    return clusters"
   ]
  },
  {
   "cell_type": "markdown",
   "metadata": {},
   "source": [
    "2. Update the centroids. We calculate the mean latitude and mean longitude of each cluster and those statistics are used as our new centroid. This step is performed by the **find_centroid** function which is mapped to compute on each cluster.\n",
    "\n"
   ]
  },
  {
   "cell_type": "code",
   "execution_count": 10,
   "metadata": {},
   "outputs": [],
   "source": [
    "def find_centroid(cluster):\n",
    "    \"\"\"\n",
    "    Returns updated centroid of given cluster\n",
    "    :param cluster: a sequence of places\n",
    "    :return: tuple of latitude and longitude for updated centroid\n",
    "    \"\"\"\n",
    "    return tuple((np.mean([i[0] for i in cluster]), np.mean([i[1] for i in cluster])))"
   ]
  },
  {
   "cell_type": "markdown",
   "metadata": {},
   "source": [
    "These 2 steps are then repeated until the centroids are unable to change or we reach a maxiumum update threshold we define ourselves."
   ]
  },
  {
   "cell_type": "code",
   "execution_count": 11,
   "metadata": {},
   "outputs": [],
   "source": [
    "def k_means(places, k, max_updates=100):\n",
    "    \"\"\"\n",
    "    Uses the k-means algorithm to group places into k clusters\n",
    "    :param places: a sequence of places\n",
    "    :param k: amount of clusters to group places into\n",
    "    :param max_updates: maximum number of centroid updates allowed\n",
    "    :return: k number of centroids represented as a tuple of longitude and latitude\n",
    "    \"\"\"\n",
    "    assert len(places) >= k, 'Not enough restaurants to cluster'\n",
    "    \n",
    "    old_centroids, n = [], 0\n",
    "    indexes = list(np.random.choice(range(len(places)), size=k, replace=False))\n",
    "    centroids = [list(places.values())[i] for i in indexes]\n",
    "\n",
    "    while old_centroids != centroids and n < max_updates:\n",
    "        old_centroids = centroids\n",
    "        clusters = group_by_centroid(places, centroids)\n",
    "        centroids = list(map(find_centroid, clusters))\n",
    "        n += 1\n",
    "    return centroids"
   ]
  },
  {
   "cell_type": "code",
   "execution_count": 12,
   "metadata": {
    "scrolled": true
   },
   "outputs": [
    {
     "data": {
      "text/plain": [
       "[(32.88052192526316, -117.2357468894737),\n",
       " (32.87483578235294, -117.23580742941176),\n",
       " (32.87549527333333, -117.24083476333335),\n",
       " (32.87737832435898, -117.23459981282056),\n",
       " (32.877970555000005, -117.2242024875),\n",
       " (32.88328838064516, -117.22628617096777),\n",
       " (32.88605689333333, -117.24109096333335),\n",
       " (32.874998309677416, -117.23225843010754),\n",
       " (32.88062594255318, -117.24072253191487)]"
      ]
     },
     "execution_count": 12,
     "metadata": {},
     "output_type": "execute_result"
    }
   ],
   "source": [
    "centroids = k_means(places, 9)\n",
    "centroids"
   ]
  },
  {
   "cell_type": "markdown",
   "metadata": {},
   "source": [
    "# Visualization\n",
    "Now it is time visualize how well the algorithm clustered our dataset. To visualize the algorithm, I run the following function which writes a json file containing metadata about our places and the centroids and starts a javascript application where our points are plotted on a map. Note that each distinct color of a point represents a different cluster.\n",
    "\n",
    "**Disclaimer:** The visualization is in no way my original code. It is adapted from a recent DSC 20 class project."
   ]
  },
  {
   "cell_type": "code",
   "execution_count": null,
   "metadata": {
    "scrolled": true
   },
   "outputs": [
    {
     "name": "stdout",
     "output_type": "stream",
     "text": [
      "Serving HTTP on 0.0.0.0 port 8000 ...\n",
      "Type Ctrl-C to exit.\n"
     ]
    }
   ],
   "source": [
    "cluster_map(places, centroids)"
   ]
  },
  {
   "cell_type": "markdown",
   "metadata": {},
   "source": [
    "<img src=\"map.png\">"
   ]
  },
  {
   "cell_type": "markdown",
   "metadata": {},
   "source": [
    "# Conclusion\n",
    "The K-means algorithm, unfortunately, is not a very sophisticated clustering algorithm compared to industry standard solutions like dbscan and gaussian mixture models. Because of how the algorithm starts by picking random locations, that randomness makes each runtime of the algorithm return different clustering results. Above is a screenshot of one particular runtime that performed very well, while at the same time highlighting reasoning for the algorithm's results. The algorithm was able to autonomously separate the campus by all the subdivisions mentioned in the introduction except for Sixth College and The School of Medicine. This was largely a result of Google Maps lacking a lot of data on the residential areas of Sixth College so it was difficult for the algorithm to identify it as a cluster. Because of that Sixth College and half of The School of Medicine were classified as a single cluster, and the other half of the School of Medicine was its own cluster.\n",
    "\n",
    "Despite the inconsistent results of the k-means clustering approach, the UCSD campus was still a great clustering dataset problem. I will revisit this problem in the future, but when I do I plan on doing 2 things to improve success: collect a more detailed dataset, and implement a more sophisticated clustering algorithm"
   ]
  }
 ],
 "metadata": {
  "kernelspec": {
   "display_name": "Python 3",
   "language": "python",
   "name": "python3"
  },
  "language_info": {
   "codemirror_mode": {
    "name": "ipython",
    "version": 3
   },
   "file_extension": ".py",
   "mimetype": "text/x-python",
   "name": "python",
   "nbconvert_exporter": "python",
   "pygments_lexer": "ipython3",
   "version": "3.6.5"
  }
 },
 "nbformat": 4,
 "nbformat_minor": 2
}
