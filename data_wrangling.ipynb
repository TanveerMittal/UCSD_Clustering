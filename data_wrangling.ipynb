{
 "cells": [
  {
   "cell_type": "code",
   "execution_count": null,
   "metadata": {
    "scrolled": true
   },
   "outputs": [],
   "source": [
    "import pandas as pd\n",
    "import numpy as np\n",
    "import googlemaps\n",
    "import time\n",
    "from config import get_key"
   ]
  },
  {
   "cell_type": "code",
   "execution_count": null,
   "metadata": {
    "scrolled": true
   },
   "outputs": [],
   "source": [
    "gmaps = googlemaps.Client(key=get_key())\n",
    "gmaps"
   ]
  },
  {
   "cell_type": "code",
   "execution_count": null,
   "metadata": {
    "scrolled": true
   },
   "outputs": [],
   "source": [
    "types = [\"art_gallery\", \"atm\", \"bakery\", \"bank\", \"bar\", \"beauty_salon\", \"bicycle_store\", \"book_store\", \"bus_station\",\n",
    "         \"cafe\", \"campground\", \"clothing_store\", \"convenience_store\", \"doctor\", \"gym\",\n",
    "         \"hospital\", \"laundry\", \"library\", \"liquor_store\", \"local_government_office\", \"lodging\",\n",
    "         \"museum\", \"park\", \"parking\", \"pharmacy\", \"physiotherapist\", \"police\", \"post_office\", \"restaurant\",\n",
    "         \"school\", \"stadium\", \"storage\", \"store\", \"supermarket\", \"transit_station\"]\n",
    "\n",
    "def page_search(loc=(32.881439,-117.237729), rad=500, category=''):\n",
    "    results = []\n",
    "    search = gmaps.places_nearby(location=loc, rank_by=\"distance\", type=category)\n",
    "    results += search[\"results\"]\n",
    "    while \"next_page_token\" in search:\n",
    "        time.sleep(2)\n",
    "        search = gmaps.places_nearby(location=loc, page_token=search[\"next_page_token\"], radius=rad, type=category)\n",
    "        results += search[\"results\"]       \n",
    "    return results\n",
    "\n",
    "\n",
    "places = []\n",
    "for t in types:\n",
    "    places += page_search(category=t)\n",
    "places"
   ]
  },
  {
   "cell_type": "code",
   "execution_count": null,
   "metadata": {
    "scrolled": true
   },
   "outputs": [],
   "source": [
    "dct = {\"name\": [], \"latitude\": [], \"longitude\": []}\n",
    "for place in places:\n",
    "    dct[\"name\"].append(place[\"name\"])\n",
    "    dct[\"latitude\"].append(place[\"geometry\"][\"location\"][\"lat\"])\n",
    "    dct[\"longitude\"].append(place[\"geometry\"][\"location\"][\"lng\"])\n",
    "dct"
   ]
  },
  {
   "cell_type": "code",
   "execution_count": null,
   "metadata": {
    "scrolled": true
   },
   "outputs": [],
   "source": [
    "df = pd.DataFrame(dct)\n",
    "df.head()"
   ]
  },
  {
   "cell_type": "code",
   "execution_count": null,
   "metadata": {
    "scrolled": true
   },
   "outputs": [],
   "source": [
    "df.to_csv(\"places.csv\")"
   ]
  }
 ],
 "metadata": {
  "kernelspec": {
   "display_name": "Python 3",
   "language": "python",
   "name": "python3"
  },
  "language_info": {
   "codemirror_mode": {
    "name": "ipython",
    "version": 3
   },
   "file_extension": ".py",
   "mimetype": "text/x-python",
   "name": "python",
   "nbconvert_exporter": "python",
   "pygments_lexer": "ipython3",
   "version": "3.6.5"
  }
 },
 "nbformat": 4,
 "nbformat_minor": 2
}
